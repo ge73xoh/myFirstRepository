{
    "cells": [
        {
            "cell_type": "markdown",
            "metadata": {
                "collapsed": true
            },
            "source": "# My Jupyter Notebook on IBM Watson Studio"
        },
        {
            "cell_type": "markdown",
            "metadata": {},
            "source": "**Daniyal Ahmed** \n\nMaster Student - Computational Mechanics"
        },
        {
            "cell_type": "markdown",
            "metadata": {},
            "source": "*I am interested in data science because this field will be in great demand in the future, and it always amazes me with what humans can achieve by integrating data science in their firms and organizations. In simple words, we can say that data is the future.*"
        },
        {
            "cell_type": "markdown",
            "metadata": {},
            "source": "### This short code below will calculate the sine of 30 degrees. We should note that the sin() function from the library math in Python returns sine in radians. Therefore, in order to convert radians into degrees we should use another function called radians(). The answer will be displayed as sin(30) = 0.5 (round-off). The code displays both the outputs. One for 30 as radians and the other for 30 as degrees.  "
        },
        {
            "cell_type": "code",
            "execution_count": 1,
            "metadata": {},
            "outputs": [
                {
                    "name": "stdout",
                    "output_type": "stream",
                    "text": "The sine of 30 in radians =  -0.9880316240928618\nThe sine of 30 in degrees =  0.49999999999999994\n"
                }
            ],
            "source": "import math as mt\n\nsine_30_radians = mt.sin(30)\nsine_30_degrees = mt.sin(mt.radians(30))\n\nprint(\"The sine of 30 in radians = \", sine_30_radians)\nprint(\"The sine of 30 in degrees = \", sine_30_degrees)\n\n\n\n"
        },
        {
            "cell_type": "markdown",
            "metadata": {},
            "source": "* Table for individuals, age, and their favorite motor brands.\n\n\n|Name       | Age           | Favorite Car Company |\n| ------------- |-------------| -----|\n|    Peter  | 27  | BMW |\n| Max      | 26      | Audi  |\n| Felix  | 30      | Mercedes   |\n\n* The list below shows five countries from the Middle East Region:\n\n1. Kuwait\n2. United Arab Emirates\n3. Saudi Arabia\n4. Bahrain\n5. Qatar\n6. ~~Germany~~"
        },
        {
            "cell_type": "markdown",
            "metadata": {},
            "source": ""
        }
    ],
    "metadata": {
        "kernelspec": {
            "display_name": "Python 3.7",
            "language": "python",
            "name": "python3"
        },
        "language_info": {
            "codemirror_mode": {
                "name": "ipython",
                "version": 3
            },
            "file_extension": ".py",
            "mimetype": "text/x-python",
            "name": "python",
            "nbconvert_exporter": "python",
            "pygments_lexer": "ipython3",
            "version": "3.7.10"
        }
    },
    "nbformat": 4,
    "nbformat_minor": 1
}